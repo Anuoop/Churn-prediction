{
 "cells": [
  {
   "cell_type": "code",
   "execution_count": 8,
   "id": "9faf2b67",
   "metadata": {},
   "outputs": [
    {
     "data": {
      "text/html": [
       "\n",
       "<!DOCTYPE HTML>\n",
       "<html>\n",
       "\n",
       "<head>\n",
       "  <meta charset=\"utf-8\">\n",
       "  <title>Churn Modelling and prediction HDML.html</title>\n",
       "  <meta name=\"viewport\" content=\"width=device-width, initial-scale=1.0\">\n",
       "</head>\n",
       "\n",
       "<body>\n",
       "  <style type=\"text/css\">\n",
       "    html, body, #container {\n",
       "      height: 100%;\n",
       "    }\n",
       "    body, #container {\n",
       "      overflow: hidden;\n",
       "      margin: 0;\n",
       "    }    #iframe {\n",
       "      width: 100%;\n",
       "      height: 100%;\n",
       "      border: none;\n",
       "    }\n",
       "  </style>\n",
       "  <div id=\"container\">\n",
       "    <iframe id=\"iframe\" sandbox=\"allow-scripts\" src=\"/files/Downloads/Churn%20Modelling%20and%20prediction%20HDML.html\"></iframe>\n",
       "  </div>\n",
       "</body>\n",
       "\n",
       "</html>\n"
      ],
      "text/plain": [
       "<IPython.core.display.HTML object>"
      ]
     },
     "metadata": {},
     "output_type": "display_data"
    }
   ],
   "source": [
    "from IPython.display import display, HTML\n",
    "\n",
    "html_content = \"\"\"\n",
    "<!DOCTYPE HTML>\n",
    "<html>\n",
    "\n",
    "<head>\n",
    "  <meta charset=\"utf-8\">\n",
    "  <title>Churn Modelling and prediction HDML.html</title>\n",
    "  <meta name=\"viewport\" content=\"width=device-width, initial-scale=1.0\">\n",
    "</head>\n",
    "\n",
    "<body>\n",
    "  <style type=\"text/css\">\n",
    "    html, body, #container {\n",
    "      height: 100%;\n",
    "    }\n",
    "    body, #container {\n",
    "      overflow: hidden;\n",
    "      margin: 0;\n",
    "    }    #iframe {\n",
    "      width: 100%;\n",
    "      height: 100%;\n",
    "      border: none;\n",
    "    }\n",
    "  </style>\n",
    "  <div id=\"container\">\n",
    "    <iframe id=\"iframe\" sandbox=\"allow-scripts\" src=\"/files/Downloads/Churn%20Modelling%20and%20prediction%20HDML.html\"></iframe>\n",
    "  </div>\n",
    "</body>\n",
    "\n",
    "</html>\n",
    "\"\"\"\n",
    "\n",
    "display(HTML(html_content))"
   ]
  },
  {
   "cell_type": "code",
   "execution_count": null,
   "id": "07bd1db8",
   "metadata": {},
   "outputs": [],
   "source": []
  },
  {
   "cell_type": "code",
   "execution_count": 7,
   "id": "8d59a5e9",
   "metadata": {},
   "outputs": [],
   "source": []
  },
  {
   "cell_type": "code",
   "execution_count": null,
   "id": "f5c74630",
   "metadata": {},
   "outputs": [],
   "source": []
  }
 ],
 "metadata": {
  "kernelspec": {
   "display_name": "Python 3 (ipykernel)",
   "language": "python",
   "name": "python3"
  },
  "language_info": {
   "codemirror_mode": {
    "name": "ipython",
    "version": 3
   },
   "file_extension": ".py",
   "mimetype": "text/x-python",
   "name": "python",
   "nbconvert_exporter": "python",
   "pygments_lexer": "ipython3",
   "version": "3.11.5"
  }
 },
 "nbformat": 4,
 "nbformat_minor": 5
}
